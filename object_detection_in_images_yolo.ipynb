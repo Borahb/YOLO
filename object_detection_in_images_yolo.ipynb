{
  "nbformat": 4,
  "nbformat_minor": 0,
  "metadata": {
    "coursera": {
      "course_slug": "convolutional-neural-networks",
      "graded_item_id": "OMdut",
      "launcher_item_id": "bbBOL"
    },
    "kernelspec": {
      "display_name": "Python 3",
      "language": "python",
      "name": "python3"
    },
    "language_info": {
      "codemirror_mode": {
        "name": "ipython",
        "version": 3
      },
      "file_extension": ".py",
      "mimetype": "text/x-python",
      "name": "python",
      "nbconvert_exporter": "python",
      "pygments_lexer": "ipython3",
      "version": "3.6.0"
    },
    "colab": {
      "name": "object_detection_in_images_yolo.ipynb",
      "provenance": []
    }
  },
  "cells": [
    {
      "cell_type": "code",
      "metadata": {
        "id": "P3KGOZJIdmi1",
        "colab_type": "code",
        "colab": {}
      },
      "source": [
        "#importing the libraries\n",
        "import argparse\n",
        "import os\n",
        "import matplotlib.pyplot as plt\n",
        "from matplotlib.pyplot import imshow\n",
        "import scipy.io\n",
        "import scipy.misc\n",
        "import numpy as np\n",
        "import pandas as pd\n",
        "import PIL\n",
        "import tensorflow as tf\n",
        "from keras import backend as K\n",
        "from keras.layers import Input, Lambda, Conv2D\n",
        "from keras.models import load_model, Model\n",
        "from yolo_utils import read_classes, read_anchors, generate_colors, preprocess_image, draw_boxes, scale_boxes\n",
        "from yad2k.models.keras_yolo import yolo_head, yolo_boxes_to_corners, preprocess_true_boxes, yolo_loss, yolo_body\n",
        "\n",
        "%matplotlib inline"
      ],
      "execution_count": 0,
      "outputs": []
    },
    {
      "cell_type": "code",
      "metadata": {
        "id": "WGJWW9agdmi_",
        "colab_type": "code",
        "colab": {}
      },
      "source": [
        "# GRADED FUNCTION: yolo_filter_boxes\n",
        "\n",
        "def yolo_filter_boxes(box_confidence, boxes, box_class_probs, threshold = .6):\n",
        "    \n",
        "    \n",
        "    box_scores = box_confidence * box_class_probs # 19x19x5x80 (80 scores)\n",
        "    \n",
        "    \n",
        "    \n",
        "    box_classes = K.argmax(box_scores, axis=-1) # 19x19x5x1 (1 class idx)\n",
        "    box_class_scores = K.max(box_scores, axis=-1) # 19x19x5x1 (1 class score)\n",
        "    \n",
        "    filtering_mask = box_class_scores >= threshold # 19x19x5x1 (1 boolean)\n",
        "   \n",
        "    scores = tf.boolean_mask(box_class_scores, filtering_mask)\n",
        "    boxes = tf.boolean_mask(boxes, filtering_mask)\n",
        "    classes = tf.boolean_mask(box_classes, filtering_mask)\n",
        "    \n",
        "    return scores, boxes, classes"
      ],
      "execution_count": 0,
      "outputs": []
    },
    {
      "cell_type": "code",
      "metadata": {
        "id": "dgRdrtfidmjB",
        "colab_type": "code",
        "colab": {}
      },
      "source": [
        "with tf.Session() as test_a:\n",
        "    box_confidence = tf.random_normal([19, 19, 5, 1], mean=1, stddev=4, seed = 1)\n",
        "    boxes = tf.random_normal([19, 19, 5, 4], mean=1, stddev=4, seed = 1)\n",
        "    box_class_probs = tf.random_normal([19, 19, 5, 80], mean=1, stddev=4, seed = 1)\n",
        "    scores, boxes, classes = yolo_filter_boxes(box_confidence, boxes, box_class_probs, threshold = 0.5)\n",
        "    print(\"scores[2] = \" + str(scores[2].eval()))\n",
        "    print(\"boxes[2] = \" + str(boxes[2].eval()))\n",
        "    print(\"classes[2] = \" + str(classes[2].eval()))\n",
        "    print(\"scores.shape = \" + str(scores.shape))\n",
        "    print(\"boxes.shape = \" + str(boxes.shape))\n",
        "    print(\"classes.shape = \" + str(classes.shape))"
      ],
      "execution_count": 0,
      "outputs": []
    },
    {
      "cell_type": "code",
      "metadata": {
        "id": "Etbqj1UtdmjI",
        "colab_type": "code",
        "colab": {}
      },
      "source": [
        "# GRADED FUNCTION: iou\n",
        "\n",
        "def iou(box1, box2):\n",
        "    \n",
        "    (box1_x1, box1_y1, box1_x2, box1_y2) = box1\n",
        "    (box2_x1, box2_y1, box2_x2, box2_y2) = box2\n",
        "    \n",
        "    xi1 = np.maximum(box1[0], box2[0])\n",
        "    yi1 = np.maximum(box1[1], box2[1])\n",
        "    xi2 = np.minimum(box1[2], box2[2])\n",
        "    yi2 = np.minimum(box1[3], box2[3])\n",
        "    inter_area = 1.0*max(yi2-yi1,0)*max(xi2-xi1,0)\n",
        "   \n",
        "    box1_area = 1.0*(box1[3]-box1[1])*(box1[2]-box1[0])\n",
        "    box2_area = 1.0*(box2[3]-box2[1])*(box2[2]-box2[0])\n",
        "    union_area = box1_area + box2_area - inter_area\n",
        "   \n",
        "    iou = inter_area/union_area\n",
        " \n",
        "\n",
        "    \n",
        "    return iou"
      ],
      "execution_count": 0,
      "outputs": []
    },
    {
      "cell_type": "code",
      "metadata": {
        "id": "JyC_5L5hdmjK",
        "colab_type": "code",
        "colab": {}
      },
      "source": [
        "\n",
        "box1 = (2, 1, 4, 3)\n",
        "box2 = (1, 2, 3, 4) \n",
        "print(\"iou for intersecting boxes = \" + str(iou(box1, box2)))\n",
        "\n",
        "\n",
        "box1 = (1,2,3,4)\n",
        "box2 = (5,6,7,8)\n",
        "print(\"iou for non-intersecting boxes = \" + str(iou(box1,box2)))\n",
        "\n",
        "\n",
        "box1 = (1,1,2,2)\n",
        "box2 = (2,2,3,3)\n",
        "print(\"iou for boxes that only touch at vertices = \" + str(iou(box1,box2)))\n",
        "\n",
        "\n",
        "box1 = (1,1,3,3)\n",
        "box2 = (2,3,3,4)\n",
        "print(\"iou for boxes that only touch at edges = \" + str(iou(box1,box2)))"
      ],
      "execution_count": 0,
      "outputs": []
    },
    {
      "cell_type": "code",
      "metadata": {
        "id": "lIibmHagdmjO",
        "colab_type": "code",
        "colab": {}
      },
      "source": [
        "# GRADED FUNCTION: yolo_non_max_suppression\n",
        "\n",
        "def yolo_non_max_suppression(scores, boxes, classes, max_boxes = 10, iou_threshold = 0.5):\n",
        "    \n",
        "    \n",
        "    \n",
        "    max_boxes_tensor = K.variable(max_boxes, dtype='int32')     # tensor to be used in tf.image.non_max_suppression()\n",
        "    K.get_session().run(tf.variables_initializer([max_boxes_tensor])) # initialize variable max_boxes_tensor\n",
        "    \n",
        "    \n",
        "    nms_indices = tf.image.non_max_suppression(boxes, scores, max_boxes, iou_threshold)\n",
        "    \n",
        "    scores = K.gather(scores, nms_indices)\n",
        "    boxes = K.gather(boxes, nms_indices)\n",
        "    classes = K.gather(classes, nms_indices)\n",
        "    \n",
        "    return scores, boxes, classes"
      ],
      "execution_count": 0,
      "outputs": []
    },
    {
      "cell_type": "code",
      "metadata": {
        "id": "8tQ5HwrEdmjS",
        "colab_type": "code",
        "colab": {}
      },
      "source": [
        "with tf.Session() as test_b:\n",
        "    scores = tf.random_normal([54,], mean=1, stddev=4, seed = 1)\n",
        "    boxes = tf.random_normal([54, 4], mean=1, stddev=4, seed = 1)\n",
        "    classes = tf.random_normal([54,], mean=1, stddev=4, seed = 1)\n",
        "    scores, boxes, classes = yolo_non_max_suppression(scores, boxes, classes)\n",
        "    print(\"scores[2] = \" + str(scores[2].eval()))\n",
        "    print(\"boxes[2] = \" + str(boxes[2].eval()))\n",
        "    print(\"classes[2] = \" + str(classes[2].eval()))\n",
        "    print(\"scores.shape = \" + str(scores.eval().shape))\n",
        "    print(\"boxes.shape = \" + str(boxes.eval().shape))\n",
        "    print(\"classes.shape = \" + str(classes.eval().shape))"
      ],
      "execution_count": 0,
      "outputs": []
    },
    {
      "cell_type": "code",
      "metadata": {
        "id": "j8VCBTXxdmjX",
        "colab_type": "code",
        "colab": {}
      },
      "source": [
        "# GRADED FUNCTION: yolo_eval\n",
        "\n",
        "def yolo_eval(yolo_outputs, image_shape = (720., 1280.), max_boxes=10, score_threshold=.6, iou_threshold=.5):\n",
        "   \n",
        "    \n",
        "    # Retrieve outputs of the YOLO model \n",
        "    box_confidence, box_xy, box_wh, box_class_probs = yolo_outputs\n",
        "\n",
        "    # Convert boxes to be ready for filtering functions \n",
        "    boxes = yolo_boxes_to_corners(box_xy, box_wh)\n",
        "\n",
        "    # Use one of the functions you've implemented to perform Score-filtering with a threshold of score_threshold \n",
        "    scores, boxes, classes = yolo_filter_boxes(box_confidence, boxes, box_class_probs, threshold=score_threshold)\n",
        "    \n",
        "    # Scale boxes back to original image shape.\n",
        "    boxes = scale_boxes(boxes, image_shape)\n",
        "\n",
        "    # Use one of the functions you've implemented to perform Non-max suppression with a threshold of iou_threshold \n",
        "    scores, boxes, classes = yolo_non_max_suppression(scores, boxes, classes)\n",
        "    \n",
        "    \n",
        "    \n",
        "    return scores, boxes, classes"
      ],
      "execution_count": 0,
      "outputs": []
    },
    {
      "cell_type": "code",
      "metadata": {
        "id": "w2-7GZQBdmjZ",
        "colab_type": "code",
        "colab": {}
      },
      "source": [
        "with tf.Session() as test_b:\n",
        "    yolo_outputs = (tf.random_normal([19, 19, 5, 1], mean=1, stddev=4, seed = 1),\n",
        "                    tf.random_normal([19, 19, 5, 2], mean=1, stddev=4, seed = 1),\n",
        "                    tf.random_normal([19, 19, 5, 2], mean=1, stddev=4, seed = 1),\n",
        "                    tf.random_normal([19, 19, 5, 80], mean=1, stddev=4, seed = 1))\n",
        "    scores, boxes, classes = yolo_eval(yolo_outputs)\n",
        "    print(\"scores[2] = \" + str(scores[2].eval()))\n",
        "    print(\"boxes[2] = \" + str(boxes[2].eval()))\n",
        "    print(\"classes[2] = \" + str(classes[2].eval()))\n",
        "    print(\"scores.shape = \" + str(scores.eval().shape))\n",
        "    print(\"boxes.shape = \" + str(boxes.eval().shape))\n",
        "    print(\"classes.shape = \" + str(classes.eval().shape))"
      ],
      "execution_count": 0,
      "outputs": []
    },
    {
      "cell_type": "code",
      "metadata": {
        "id": "F5R9Cvmcdmji",
        "colab_type": "code",
        "colab": {}
      },
      "source": [
        "class_names = read_classes(\"model_data/coco_classes.txt\")\n",
        "anchors = read_anchors(\"model_data/yolo_anchors.txt\")\n",
        "image_shape = (720., 1280.)    "
      ],
      "execution_count": 0,
      "outputs": []
    },
    {
      "cell_type": "code",
      "metadata": {
        "id": "XMU9UTVIdmjk",
        "colab_type": "code",
        "colab": {}
      },
      "source": [
        "#loading the pretrained model\n",
        "yolo_model = load_model(\"model_data/yolo.h5\")"
      ],
      "execution_count": 0,
      "outputs": []
    },
    {
      "cell_type": "code",
      "metadata": {
        "id": "nvNZXRZkdmjo",
        "colab_type": "code",
        "colab": {}
      },
      "source": [
        "yolo_model.summary()"
      ],
      "execution_count": 0,
      "outputs": []
    },
    {
      "cell_type": "code",
      "metadata": {
        "id": "vzCO2mrhdmjr",
        "colab_type": "code",
        "colab": {}
      },
      "source": [
        "yolo_outputs = yolo_head(yolo_model.output, anchors, len(class_names))"
      ],
      "execution_count": 0,
      "outputs": []
    },
    {
      "cell_type": "code",
      "metadata": {
        "id": "Crps0cU_dmju",
        "colab_type": "code",
        "colab": {}
      },
      "source": [
        "scores, boxes, classes = yolo_eval(yolo_outputs, image_shape)"
      ],
      "execution_count": 0,
      "outputs": []
    },
    {
      "cell_type": "code",
      "metadata": {
        "id": "iTf2GfN8dmjy",
        "colab_type": "code",
        "colab": {}
      },
      "source": [
        "def predict(sess, image_file):\n",
        "\n",
        "\n",
        "  # Preprocess the image\n",
        "  image, image_data = preprocess_image(\"images/\" + image_file, model_image_size = (608, 608))\n",
        "\n",
        "  # Run the session with the correct tensors and choose the correct placeholders in the feed_dict.\n",
        "   \n",
        "  out_scores, out_boxes, out_classes = sess.run([scores, boxes, classes], feed_dict={yolo_model.input: image_data, K.learning_phase(): 0})\n",
        "   \n",
        "  # Print predictions info\n",
        "  print('Found {} boxes for {}'.format(len(out_boxes), image_file))\n",
        "  # Generate colors for drawing bounding boxes.\n",
        "  colors = generate_colors(class_names)\n",
        "  # Draw bounding boxes on the image file\n",
        "  draw_boxes(image, out_scores, out_boxes, out_classes, class_names, colors)\n",
        "  # Save the predicted bounding box on the image\n",
        "  image.save(os.path.join(\"out\", image_file), quality=90)\n",
        "  # Display the results in the notebook\n",
        "  output_image = scipy.misc.imread(os.path.join(\"out\", image_file))\n",
        "  imshow(output_image)\n",
        "    \n",
        "  return out_scores, out_boxes, out_classes"
      ],
      "execution_count": 0,
      "outputs": []
    },
    {
      "cell_type": "code",
      "metadata": {
        "scrolled": false,
        "id": "1xBx-W3hdmj2",
        "colab_type": "code",
        "colab": {}
      },
      "source": [
        "out_scores, out_boxes, out_classes = predict(sess, \"giraffe.jpg\")"
      ],
      "execution_count": 0,
      "outputs": []
    }
  ]
}